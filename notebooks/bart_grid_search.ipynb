{
 "cells": [
  {
   "cell_type": "code",
   "execution_count": null,
   "metadata": {},
   "outputs": [],
   "source": [
    "python -u bart_detection.py --train-batch-size=32  --val-batch-size=32 --test-batch-size=1 --epochs=5 \\\n",
    "                            --learning-rate=0.0001 \\\n",
    "                            --use-gpu # --local-files-only"
   ]
  },
  {
   "cell_type": "markdown",
   "metadata": {},
   "source": [
    "0.0001 best accuracy 0.81, best mathew 0.0\n",
    "0.00001 best accuracy 0.826, best mathew 0.169\n",
    "0.00005 .831, 0.229\n",
    "0.00005 batch 16 0.83 , 0.08\n",
    "0.00001 batch 16 0.828, 0.186"
   ]
  }
 ],
 "metadata": {
  "language_info": {
   "name": "python"
  }
 },
 "nbformat": 4,
 "nbformat_minor": 2
}
