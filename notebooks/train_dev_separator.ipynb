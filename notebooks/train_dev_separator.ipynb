{
 "cells": [
  {
   "cell_type": "code",
   "execution_count": null,
   "metadata": {},
   "outputs": [],
   "source": [
    "import pandas as pd\n",
    "import os\n",
    "import random\n",
    "\n",
    "# Define the file paths\n",
    "input_file = \"../data/etpc-paraphrase-train.csv\"\n",
    "output_dir = \"../data/etpc/\"\n",
    "\n",
    "# Read the CSV file\n",
    "#df = pd.read_csv(input_file, sep=\"\\t\", converters={'paraphrase_types': pd.eval, 'sentence1_tokenized': pd.eval, 'sentence2_tokenized': pd.eval})\n",
    "df = pd.read_csv(input_file, sep=\"\\t\")\n",
    "\n",
    "# Split the data into train and dev datasets\n",
    "random.seed(42)  # Set the random seed for reproducibility\n",
    "indices = list(range(len(df)))\n",
    "random.shuffle(indices)\n",
    "split_index = int(0.8 * len(df))\n",
    "train_indices = indices[:split_index]\n",
    "dev_indices = indices[split_index:]\n",
    "train_df = df.iloc[train_indices]\n",
    "dev_df = df.iloc[dev_indices]\n",
    "\n",
    "# Create the output directory if it doesn't exist\n",
    "#os.makedirs(output_dir, exist_ok=True)\n",
    "\n",
    "# Save the train and dev datasets as separate CSV files\n",
    "#train_df.to_csv(os.path.join(output_dir, \"etpc-paraphrase-train.csv\"), sep=\"\\t\", index=False)\n",
    "#dev_df.to_csv(os.path.join(output_dir, \"etpc-paraphrase-dev.csv\"), sep=\"\\t\", index=False)"
   ]
  },
  {
   "cell_type": "code",
   "execution_count": null,
   "metadata": {},
   "outputs": [],
   "source": [
    "import pandas as pd\n",
    "from collections import Counter\n",
    "\n",
    "# Initialize a Counter to count frequencies\n",
    "frequency_counter = Counter()\n",
    "\n",
    "# Iterate over each row in the 'paraphrase_types' column\n",
    "for paraphrase_list in df['paraphrase_types']:\n",
    "    # Update the counter with the elements in each list\n",
    "    frequency_counter.update(paraphrase_list)\n",
    "\n",
    "# Convert the counter to a DataFrame for a clearer presentation\n",
    "frequency_df = pd.DataFrame.from_dict(frequency_counter, orient='index', columns=['Frequency'])\n",
    "frequency_df.index.name = 'Number'\n",
    "frequency_df = frequency_df.sort_index()\n",
    "\n",
    "# Calculate the number of rows in the DataFrame\n",
    "number_of_rows = len(df)\n",
    "\n",
    "# Calculate frequency ratio relative to the number of rows\n",
    "frequency_df['Frequency_Ratio'] = frequency_df['Frequency'] / number_of_rows\n",
    "\n",
    "print(frequency_df)"
   ]
  },
  {
   "cell_type": "code",
   "execution_count": null,
   "metadata": {},
   "outputs": [],
   "source": []
  }
 ],
 "metadata": {
  "kernelspec": {
   "display_name": "venv",
   "language": "python",
   "name": "python3"
  },
  "language_info": {
   "codemirror_mode": {
    "name": "ipython",
    "version": 3
   },
   "file_extension": ".py",
   "mimetype": "text/x-python",
   "name": "python",
   "nbconvert_exporter": "python",
   "pygments_lexer": "ipython3",
   "version": "3.12.5"
  }
 },
 "nbformat": 4,
 "nbformat_minor": 2
}
