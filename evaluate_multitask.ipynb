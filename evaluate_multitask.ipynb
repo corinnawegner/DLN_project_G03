{
 "cells": [
  {
   "cell_type": "markdown",
   "source": [
    "### 7.2.2 Multitask classification\n",
    " You will train one model combined on the three datasets: QQP, SST, and STS, to evaluate\n",
    " multitask learning capabilities. Beyond training, implement an improvement that boosts\n",
    " the model's multitask performance (average performance on all three tasks). Compare the\n",
    " multitask model's performance against models trained on individual tasks to assess the\n",
    " effectiveness of multitask learning. How does training on a different dataset influence the\n",
    " model’s performance on another task? Make sure to discuss the obtained results. What are\n",
    " the benefits/limitations of this approach? Do you identify any trends?\n",
    " To start, try using the multitask argument already provided, but you may need to modify\n",
    " your training loops.\n",
    " You can systematically investigate how different training (e.g., train on one dataset after\n",
    " another, shuffle all datasets together, and train the model simultaneously, etc) affects its\n",
    " performance on all three tasks. Starting from those insights, you can come up with some\n",
    " ideas of how to improve the multitask performance of the model. Furthermore, you could\n",
    " use some ideas from the papers presented in 7.1. Implement at least one idea that leads to\n",
    " an improvement in the multitask performance"
   ],
   "metadata": {
    "collapsed": false
   }
  },
  {
   "cell_type": "code",
   "execution_count": null,
   "outputs": [],
   "source": [
    "path_dir = r\"C:\\Users\\corin\\OneDrive\\Physik Master\\SoSe 24\\Deep Learning for Natural Language Processing\\Project\\Multitask models\"\n",
    "\n",
    "path_multitask_basic = \"multitask-finetune-10-1e-05.pt\" #Todo: implement improvement for multitask\n",
    "path_qqp = \"qqp-finetune-10-1e-05.pt\"\n",
    "path_sst = \"sst-finetune-10-1e-05.pt\"\n",
    "path_sts = \"sts-finetune-10-1e-05.pt\""
   ],
   "metadata": {
    "collapsed": false
   }
  }
 ],
 "metadata": {
  "kernelspec": {
   "display_name": "Python 3",
   "language": "python",
   "name": "python3"
  },
  "language_info": {
   "codemirror_mode": {
    "name": "ipython",
    "version": 2
   },
   "file_extension": ".py",
   "mimetype": "text/x-python",
   "name": "python",
   "nbconvert_exporter": "python",
   "pygments_lexer": "ipython2",
   "version": "2.7.6"
  }
 },
 "nbformat": 4,
 "nbformat_minor": 0
}
